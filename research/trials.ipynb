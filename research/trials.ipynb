{
 "cells": [
  {
   "cell_type": "code",
   "execution_count": 1,
   "id": "b65109cc",
   "metadata": {},
   "outputs": [],
   "source": [
    "import gdown"
   ]
  },
  {
   "cell_type": "code",
   "execution_count": 2,
   "id": "40218139",
   "metadata": {},
   "outputs": [],
   "source": [
    "url = \"https://drive.google.com/file/d/1LBfad4uw-y3Juf8cEOF90oSyXT2zriX1/view?usp=drive_link\""
   ]
  },
  {
   "cell_type": "code",
   "execution_count": 3,
   "id": "70208d27",
   "metadata": {},
   "outputs": [
    {
     "data": {
      "text/plain": [
       "str"
      ]
     },
     "execution_count": 3,
     "metadata": {},
     "output_type": "execute_result"
    }
   ],
   "source": [
    "type(url)"
   ]
  },
  {
   "cell_type": "code",
   "execution_count": 4,
   "id": "77e4177c",
   "metadata": {},
   "outputs": [
    {
     "data": {
      "text/plain": [
       "'1LBfad4uw-y3Juf8cEOF90oSyXT2zriX1'"
      ]
     },
     "execution_count": 4,
     "metadata": {},
     "output_type": "execute_result"
    }
   ],
   "source": [
    "file_id = url.split(\"/\")[-2]\n",
    "file_id"
   ]
  },
  {
   "cell_type": "code",
   "execution_count": 5,
   "id": "07e97c12",
   "metadata": {},
   "outputs": [
    {
     "name": "stderr",
     "output_type": "stream",
     "text": [
      "Downloading...\n",
      "From (original): https://drive.google.com/uc?/export=download&id=1LBfad4uw-y3Juf8cEOF90oSyXT2zriX1\n",
      "From (redirected): https://drive.google.com/uc?%2Fexport=download&id=1LBfad4uw-y3Juf8cEOF90oSyXT2zriX1&confirm=t&uuid=e1580df7-39e5-4bb6-a6de-4f161752baab\n",
      "To: c:\\Users\\srujanrk\\Desktop\\mlops-project-folder\\mlops-project\\research\\CNRPark-zip.zip\n",
      "100%|██████████| 19.1M/19.1M [00:02<00:00, 8.08MB/s]\n"
     ]
    },
    {
     "data": {
      "text/plain": [
       "'CNRPark-zip.zip'"
      ]
     },
     "execution_count": 5,
     "metadata": {},
     "output_type": "execute_result"
    }
   ],
   "source": [
    "prefix = 'https://drive.google.com/uc?/export=download&id='\n",
    "gdown.download(prefix+file_id, \"CNRPark-zip.zip\")"
   ]
  },
  {
   "cell_type": "code",
   "execution_count": null,
   "id": "c2b0b0ab",
   "metadata": {},
   "outputs": [],
   "source": []
  }
 ],
 "metadata": {
  "kernelspec": {
   "display_name": "myenv",
   "language": "python",
   "name": "python3"
  },
  "language_info": {
   "codemirror_mode": {
    "name": "ipython",
    "version": 3
   },
   "file_extension": ".py",
   "mimetype": "text/x-python",
   "name": "python",
   "nbconvert_exporter": "python",
   "pygments_lexer": "ipython3",
   "version": "3.10.16"
  }
 },
 "nbformat": 4,
 "nbformat_minor": 5
}
